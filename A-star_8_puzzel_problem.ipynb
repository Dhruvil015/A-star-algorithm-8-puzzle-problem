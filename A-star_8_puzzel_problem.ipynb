{
  "cells": [
    {
      "cell_type": "code",
      "execution_count": 10,
      "metadata": {
        "id": "mDJKf6TxMtMG"
      },
      "outputs": [],
      "source": [
        "import numpy as np"
      ]
    },
    {
      "cell_type": "code",
      "execution_count": 11,
      "metadata": {
        "colab": {
          "base_uri": "https://localhost:8080/"
        },
        "id": "na2c2kNIpER6",
        "outputId": "4b343a47-c140-4583-b1ad-29c69f0d7d5b"
      },
      "outputs": [
        {
          "name": "stdout",
          "output_type": "stream",
          "text": [
            "[[2 8 3]\n",
            " [1 6 4]\n",
            " [7 0 5]]\n",
            "[[2 8 3]\n",
            " [1 0 4]\n",
            " [7 6 5]]\n",
            "[[2 0 3]\n",
            " [1 8 4]\n",
            " [7 6 5]]\n",
            "[[0 2 3]\n",
            " [1 8 4]\n",
            " [7 6 5]]\n",
            "[[1 2 3]\n",
            " [0 8 4]\n",
            " [7 6 5]]\n",
            "[[1 2 3]\n",
            " [8 0 4]\n",
            " [7 6 5]]\n",
            "\n",
            "**-----last matrix is the result which is equal to goal matrix-----\n"
          ]
        }
      ],
      "source": [
        "start_matrix = np.array([[2,8,3],[1,6,4],[7,0,5]])\n",
        "end_matrix =   np.array([[1,2,3],[8,0,4],[7,6,5]])\n",
        "\n",
        "visited = []\n",
        "open = []\n",
        "closed = []\n",
        "\n",
        "closed.append(start_matrix)\n",
        "\n",
        "\n",
        "def calculateHuristic(matrix, e_matrix):\n",
        "  res = matrix == e_matrix\n",
        "  return 9 - np.count_nonzero(res)\n",
        "\n",
        "\n",
        "def possibleChildren(matrix, e_matrix):\n",
        "  visited.append(matrix)\n",
        "  [i],[j] = np.where(matrix == 0)\n",
        "  direction = [[-1, 0], [0, -1], [1, 0],[0, 1]]\n",
        "  children = []\n",
        "  for dir in direction:\n",
        "    ni = i + dir[0]\n",
        "    nj = j + dir[1]\n",
        "    newMatrix = matrix.copy()\n",
        "\n",
        "    if(ni>=0 and ni<=2 and nj>=0 and nj<=2):\n",
        "      newMatrix[i,j], newMatrix[ni, nj] = matrix[ni,nj], matrix[i, j]\n",
        "      if not(any(np.array_equal(newMatrix, i) for i in visited)):\n",
        "        visited.append(newMatrix)\n",
        "        newMatrix_huristic = calculateHuristic(newMatrix, e_matrix)\n",
        "        children.append([newMatrix_huristic, newMatrix])\n",
        "  \n",
        "  children = sorted(children, key=lambda x:x[0])\n",
        "  for i in range(len(children)) :\n",
        "    children[i] = children[i][1]\n",
        "  \n",
        "  return children # array\n",
        "      \n",
        "\n",
        "def puzzelFunction(s_matrix, e_matrix):\n",
        "  start_huristic = calculateHuristic(s_matrix, e_matrix)\n",
        "  if(start_huristic == 0):\n",
        "    for node in closed:\n",
        "      print(node)\n",
        "    return True\n",
        "  else:\n",
        "    # find possible children, and then calculate each huristic value and sort them.\n",
        "    children = possibleChildren(s_matrix, e_matrix)\n",
        "\n",
        "    # Add children at start in the open list in ordered list.\n",
        "    if(len(children)>0):\n",
        "      for i in range(len(children)):\n",
        "        open.insert(i, children[i])\n",
        "\n",
        "    # remove first children compare with the goal marix by hurisitc value,\n",
        "    if(len(open)>0):\n",
        "      newCalculated_huristic = calculateHuristic(open[0], e_matrix)\n",
        "      newMatrix = open[0]\n",
        "      closed.append(open[0])\n",
        "      open.pop(0)\n",
        "      # -- if huristic value is 0 then return True.\n",
        "      if(newCalculated_huristic == 0):\n",
        "        for node in closed:\n",
        "          print(node)\n",
        "        return True\n",
        "      # -- if huristic vlaue is not 0 then again call puzzelFunction function with this new matrix as the start matrix.\n",
        "      else:\n",
        "        puzzelFunction(newMatrix, e_matrix)\n",
        "    else:\n",
        "      return False\n",
        "\n",
        "\n",
        "puzzelFunction(start_matrix, end_matrix)\n",
        "print(\"\\n**-----last matrix is the result which is equal to goal matrix-----\")"
      ]
    }
  ],
  "metadata": {
    "colab": {
      "collapsed_sections": [],
      "name": "19BCP033_AI_Lab_A*-8-puzzel problem.ipynb",
      "provenance": []
    },
    "kernelspec": {
      "display_name": "Python 3",
      "name": "python3"
    },
    "language_info": {
      "name": "python"
    }
  },
  "nbformat": 4,
  "nbformat_minor": 0
}
